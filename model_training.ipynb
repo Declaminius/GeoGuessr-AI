{
 "cells": [
  {
   "cell_type": "code",
   "execution_count": 4,
   "id": "80b06f50-75d1-40f8-a2f1-09d332240e88",
   "metadata": {},
   "outputs": [
    {
     "name": "stdout",
     "output_type": "stream",
     "text": [
      "Found 25064 files belonging to 2 classes.\n",
      "Using 20052 files for training.\n",
      "Using 5012 files for validation.\n"
     ]
    }
   ],
   "source": [
    "import tensorflow as tf\n",
    "from tensorflow import keras\n",
    "from tensorflow.data import AUTOTUNE\n",
    "from config import *\n",
    "\n",
    "model = keras.models.load_model('neural_net')\n",
    "\n",
    "\n",
    "train_ds, val_ds = keras.utils.image_dataset_from_directory(\n",
    "    image_dir,\n",
    "    validation_split=0.2,\n",
    "    labels=\"inferred\",\n",
    "    class_names=[\"Austria\",\"Australia\"],\n",
    "    subset=\"both\",\n",
    "    seed = 0,\n",
    "    batch_size = batch_size,\n",
    "    crop_to_aspect_ratio=True,\n",
    "    image_size=(img_height, img_width))\n",
    "\n",
    "def standardize_image(image, label):\n",
    "    mean = tf.reduce_mean(image)\n",
    "    std = tf.math.reduce_std(image)\n",
    "    standardized_image = tf.map_fn(lambda x: (x - mean)/std, image)\n",
    "    return (standardized_image, label)\n",
    "\n",
    "train_ds =  train_ds.map(standardize_image)\n",
    "val_ds = val_ds.map(standardize_image)\n",
    "\n",
    "\n",
    "train_ds = train_ds.prefetch(buffer_size = AUTOTUNE)\n",
    "val_ds = val_ds.prefetch(buffer_size = AUTOTUNE)\n",
    "\n"
   ]
  },
  {
   "cell_type": "code",
   "execution_count": 5,
   "id": "a9994d69-11c7-4f0a-80fb-76ee6bda8399",
   "metadata": {},
   "outputs": [
    {
     "name": "stdout",
     "output_type": "stream",
     "text": [
      "157/157 [==============================] - 31s 196ms/step - loss: 0.1604 - accuracy: 0.9423\n"
     ]
    },
    {
     "data": {
      "text/plain": [
       "[0.16041921079158783, 0.9423384070396423]"
      ]
     },
     "execution_count": 5,
     "metadata": {},
     "output_type": "execute_result"
    }
   ],
   "source": [
    "model.evaluate(val_ds)"
   ]
  },
  {
   "cell_type": "code",
   "execution_count": 2,
   "id": "a16195c2-3b60-4909-bc24-aa059f27d1e2",
   "metadata": {},
   "outputs": [
    {
     "name": "stdout",
     "output_type": "stream",
     "text": [
      "Epoch 1/10\n",
      "627/627 [==============================] - 509s 810ms/step - loss: 0.0794 - accuracy: 0.9700 - val_loss: 0.1643 - val_accuracy: 0.9441\n",
      "Epoch 2/10\n",
      "627/627 [==============================] - 524s 834ms/step - loss: 0.0711 - accuracy: 0.9724 - val_loss: 0.1645 - val_accuracy: 0.9372\n",
      "Epoch 3/10\n",
      "627/627 [==============================] - 545s 867ms/step - loss: 0.0672 - accuracy: 0.9746 - val_loss: 0.2259 - val_accuracy: 0.9308\n",
      "Epoch 4/10\n",
      "627/627 [==============================] - 528s 841ms/step - loss: 0.0665 - accuracy: 0.9741 - val_loss: 0.1860 - val_accuracy: 0.9425\n",
      "Epoch 5/10\n",
      "627/627 [==============================] - 558s 888ms/step - loss: 0.0550 - accuracy: 0.9786 - val_loss: 0.1718 - val_accuracy: 0.9481\n",
      "Epoch 6/10\n",
      "627/627 [==============================] - 493s 785ms/step - loss: 0.0534 - accuracy: 0.9808 - val_loss: 0.2167 - val_accuracy: 0.9431\n",
      "Epoch 7/10\n",
      "627/627 [==============================] - 474s 754ms/step - loss: 0.0529 - accuracy: 0.9797 - val_loss: 0.1662 - val_accuracy: 0.9529\n",
      "Epoch 8/10\n",
      "627/627 [==============================] - 466s 742ms/step - loss: 0.0476 - accuracy: 0.9830 - val_loss: 0.1552 - val_accuracy: 0.9485\n",
      "Epoch 9/10\n",
      "627/627 [==============================] - 466s 742ms/step - loss: 0.0419 - accuracy: 0.9851 - val_loss: 0.2312 - val_accuracy: 0.9461\n",
      "Epoch 10/10\n",
      "627/627 [==============================] - 467s 744ms/step - loss: 0.0433 - accuracy: 0.9832 - val_loss: 0.2634 - val_accuracy: 0.9417\n"
     ]
    }
   ],
   "source": [
    "history = model.fit(train_ds, epochs = 10, validation_data = val_ds)"
   ]
  }
 ],
 "metadata": {
  "kernelspec": {
   "display_name": "Python 3 (ipykernel)",
   "language": "python",
   "name": "python3"
  },
  "language_info": {
   "codemirror_mode": {
    "name": "ipython",
    "version": 3
   },
   "file_extension": ".py",
   "mimetype": "text/x-python",
   "name": "python",
   "nbconvert_exporter": "python",
   "pygments_lexer": "ipython3",
   "version": "3.10.8"
  }
 },
 "nbformat": 4,
 "nbformat_minor": 5
}
