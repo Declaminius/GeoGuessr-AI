{
 "cells": [
  {
   "cell_type": "code",
   "execution_count": 1,
   "id": "bd290716-5db7-41cd-bfa8-f3b456b71508",
   "metadata": {},
   "outputs": [
    {
     "name": "stderr",
     "output_type": "stream",
     "text": [
      "2023-03-07 12:51:54.501152: I tensorflow/core/platform/cpu_feature_guard.cc:193] This TensorFlow binary is optimized with oneAPI Deep Neural Network Library (oneDNN) to use the following CPU instructions in performance-critical operations:  SSE4.1 SSE4.2 AVX AVX2 FMA\n",
      "To enable them in other operations, rebuild TensorFlow with the appropriate compiler flags.\n"
     ]
    }
   ],
   "source": [
    "# Adapted from https://github.com/pytorch/vision/blob/v0.4.0/torchvision/models/resnet.py\n",
    "import math\n",
    "import numpy as np\n",
    "import matplotlib.pyplot as plt\n",
    "import tensorflow as tf\n",
    "from tensorflow import keras\n",
    "from tensorflow.keras import layers\n",
    "from tensorflow.keras import optimizers\n",
    "from tensorflow.keras import losses\n",
    "from tensorflow.data import AUTOTUNE\n",
    "\n",
    "img_height = 256\n",
    "img_width = 256\n",
    "image_dir = \"images_multinomial\"\n",
    "batch_size = 32\n"
   ]
  },
  {
   "cell_type": "code",
   "execution_count": 2,
   "id": "de20663b-07a9-4195-8ff2-d99a90357185",
   "metadata": {},
   "outputs": [
    {
     "name": "stdout",
     "output_type": "stream",
     "text": [
      "Found 55051 files belonging to 5 classes.\n",
      "Using 44041 files for training.\n",
      "Using 11010 files for validation.\n"
     ]
    }
   ],
   "source": [
    "train_ds, val_ds = keras.utils.image_dataset_from_directory(\n",
    "    image_dir,\n",
    "    validation_split=0.2,\n",
    "    labels=\"inferred\",\n",
    "    label_mode=\"categorical\",\n",
    "    class_names=[\"Australia\", \"Austria\", \"Czechia\", \"New Zealand\", \"Slovakia\"],\n",
    "    subset=\"both\",\n",
    "    seed = 0,\n",
    "    batch_size = batch_size,\n",
    "    crop_to_aspect_ratio=True,\n",
    "    image_size=(img_height, img_width))\n"
   ]
  },
  {
   "cell_type": "code",
   "execution_count": 3,
   "id": "3dffa39e-5cde-4a03-8e8e-7f7da574ac8b",
   "metadata": {},
   "outputs": [],
   "source": [
    "model = keras.Sequential(\n",
    "    [\n",
    "    layers.Conv2D(32, (3,3), input_shape = (img_height,img_width,3), activation = \"relu\", padding=\"same\"),\n",
    "    layers.MaxPooling2D((2,2), padding=\"same\"),\n",
    "    layers.Conv2D(32, (3,3), activation = \"relu\", padding=\"same\"),\n",
    "    layers.MaxPooling2D((2,2), padding=\"same\"),\n",
    "    layers.Conv2D(32, (3,3), activation = \"relu\", padding=\"same\"),\n",
    "    layers.MaxPooling2D((2,2), padding=\"same\"),\n",
    "    layers.Conv2D(32, (3,3), activation = \"relu\", padding=\"same\"),\n",
    "    layers.MaxPooling2D((2,2), padding=\"same\"),\n",
    "    layers.Conv2D(32, (3,3), activation = \"relu\", padding=\"same\"),\n",
    "    layers.MaxPooling2D((2,2), padding=\"same\"),\n",
    "    layers.Conv2D(32, (3,3), activation = \"relu\", padding=\"same\"),\n",
    "    layers.MaxPooling2D((2,2), padding=\"same\"),\n",
    "    layers.Flatten(),\n",
    "    layers.Dense(100),\n",
    "    layers.Dropout(0.1),\n",
    "    layers.Dense(5, activation = 'softmax'),\n",
    "    ])\n",
    "\n",
    "optimizer = optimizers.Adam(learning_rate = 0.001)\n",
    "\n",
    "model.compile(optimizer=optimizer, loss='categorical_crossentropy', metrics = [\"accuracy\"])"
   ]
  },
  {
   "cell_type": "code",
   "execution_count": 4,
   "id": "846d172a-92ed-4d38-85a3-6b8961237ee3",
   "metadata": {},
   "outputs": [
    {
     "name": "stdout",
     "output_type": "stream",
     "text": [
      "Model: \"sequential\"\n",
      "_________________________________________________________________\n",
      " Layer (type)                Output Shape              Param #   \n",
      "=================================================================\n",
      " conv2d (Conv2D)             (None, 256, 256, 32)      896       \n",
      "                                                                 \n",
      " max_pooling2d (MaxPooling2D  (None, 128, 128, 32)     0         \n",
      " )                                                               \n",
      "                                                                 \n",
      " conv2d_1 (Conv2D)           (None, 128, 128, 32)      9248      \n",
      "                                                                 \n",
      " max_pooling2d_1 (MaxPooling  (None, 64, 64, 32)       0         \n",
      " 2D)                                                             \n",
      "                                                                 \n",
      " conv2d_2 (Conv2D)           (None, 64, 64, 32)        9248      \n",
      "                                                                 \n",
      " max_pooling2d_2 (MaxPooling  (None, 32, 32, 32)       0         \n",
      " 2D)                                                             \n",
      "                                                                 \n",
      " conv2d_3 (Conv2D)           (None, 32, 32, 32)        9248      \n",
      "                                                                 \n",
      " max_pooling2d_3 (MaxPooling  (None, 16, 16, 32)       0         \n",
      " 2D)                                                             \n",
      "                                                                 \n",
      " conv2d_4 (Conv2D)           (None, 16, 16, 32)        9248      \n",
      "                                                                 \n",
      " max_pooling2d_4 (MaxPooling  (None, 8, 8, 32)         0         \n",
      " 2D)                                                             \n",
      "                                                                 \n",
      " conv2d_5 (Conv2D)           (None, 8, 8, 32)          9248      \n",
      "                                                                 \n",
      " max_pooling2d_5 (MaxPooling  (None, 4, 4, 32)         0         \n",
      " 2D)                                                             \n",
      "                                                                 \n",
      " flatten (Flatten)           (None, 512)               0         \n",
      "                                                                 \n",
      " dense (Dense)               (None, 100)               51300     \n",
      "                                                                 \n",
      " dropout (Dropout)           (None, 100)               0         \n",
      "                                                                 \n",
      " dense_1 (Dense)             (None, 5)                 505       \n",
      "                                                                 \n",
      "=================================================================\n",
      "Total params: 98,941\n",
      "Trainable params: 98,941\n",
      "Non-trainable params: 0\n",
      "_________________________________________________________________\n"
     ]
    }
   ],
   "source": [
    "model.summary()"
   ]
  },
  {
   "cell_type": "code",
   "execution_count": 5,
   "id": "b473e8a2-1ed6-4de2-bef2-e14ee92854b5",
   "metadata": {},
   "outputs": [],
   "source": [
    "def standardize_image(image, label):\n",
    "    mean = tf.reduce_mean(image)\n",
    "    std = tf.math.reduce_std(image)\n",
    "    standardized_image = tf.map_fn(lambda x: (x - mean)/std, image)\n",
    "    return (standardized_image, label)\n",
    "\n",
    "train_ds =  train_ds.map(standardize_image)\n",
    "val_ds = val_ds.map(standardize_image)\n",
    "\n",
    "\n",
    "train_ds = train_ds.prefetch(buffer_size = AUTOTUNE)\n",
    "val_ds = val_ds.prefetch(buffer_size = AUTOTUNE)\n"
   ]
  },
  {
   "cell_type": "code",
   "execution_count": null,
   "id": "1b856699-9d16-4b0f-b906-8b9f3fa0eacc",
   "metadata": {},
   "outputs": [
    {
     "name": "stdout",
     "output_type": "stream",
     "text": [
      "Epoch 1/10\n",
      " 743/1377 [===============>..............] - ETA: 7:59 - loss: 1.3409 - accuracy: 0.4245"
     ]
    }
   ],
   "source": [
    "history = model.fit(train_ds, epochs = 10, validation_data = val_ds)"
   ]
  }
 ],
 "metadata": {
  "kernelspec": {
   "display_name": "Python 3 (ipykernel)",
   "language": "python",
   "name": "python3"
  },
  "language_info": {
   "codemirror_mode": {
    "name": "ipython",
    "version": 3
   },
   "file_extension": ".py",
   "mimetype": "text/x-python",
   "name": "python",
   "nbconvert_exporter": "python",
   "pygments_lexer": "ipython3",
   "version": "3.10.8"
  }
 },
 "nbformat": 4,
 "nbformat_minor": 5
}
